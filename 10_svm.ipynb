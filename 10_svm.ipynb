{
 "cells": [
  {
   "cell_type": "code",
   "execution_count": 1,
   "id": "8b37098a",
   "metadata": {},
   "outputs": [],
   "source": [
    "# Demonstration of SVM and use for character recognition task"
   ]
  },
  {
   "cell_type": "code",
   "execution_count": 2,
   "id": "6f2866d3",
   "metadata": {},
   "outputs": [],
   "source": [
    "# Support Vector Machines (SVM) is a powerful supervised machine learning algorithm used for classification\n",
    "# and regression tasks. SVM is particularly effective in high-dimensional spaces and is often employed in tasks\n",
    "# like character recognition, where the goal is to categorize handwritten characters into specific classes (e.g.,\n",
    "# digits or letters). The demonstration of SVM for character recognition involves training the SVM model on a\n",
    "# labeled dataset of characters and then using the trained model to predict the class of new, unseen characters.\n"
   ]
  },
  {
   "cell_type": "code",
   "execution_count": 4,
   "id": "e41b7e3e",
   "metadata": {},
   "outputs": [
    {
     "name": "stdout",
     "output_type": "stream",
     "text": [
      "Accuracy: 0.9814814814814815\n",
      "Classification Report:\n",
      "               precision    recall  f1-score   support\n",
      "\n",
      "           0       0.98      1.00      0.99        53\n",
      "           1       1.00      1.00      1.00        50\n",
      "           2       0.98      1.00      0.99        47\n",
      "           3       0.98      0.96      0.97        54\n",
      "           4       1.00      1.00      1.00        60\n",
      "           5       0.97      0.97      0.97        66\n",
      "           6       0.98      0.98      0.98        53\n",
      "           7       0.98      0.98      0.98        55\n",
      "           8       0.98      0.98      0.98        43\n",
      "           9       0.97      0.95      0.96        59\n",
      "\n",
      "    accuracy                           0.98       540\n",
      "   macro avg       0.98      0.98      0.98       540\n",
      "weighted avg       0.98      0.98      0.98       540\n",
      "\n",
      "Confusion Matrix:\n",
      " [[53  0  0  0  0  0  0  0  0  0]\n",
      " [ 0 50  0  0  0  0  0  0  0  0]\n",
      " [ 0  0 47  0  0  0  0  0  0  0]\n",
      " [ 0  0  1 52  0  1  0  0  0  0]\n",
      " [ 0  0  0  0 60  0  0  0  0  0]\n",
      " [ 0  0  0  0  0 64  1  0  0  1]\n",
      " [ 1  0  0  0  0  0 52  0  0  0]\n",
      " [ 0  0  0  0  0  0  0 54  0  1]\n",
      " [ 0  0  0  0  0  1  0  0 42  0]\n",
      " [ 0  0  0  1  0  0  0  1  1 56]]\n"
     ]
    },
    {
     "data": {
      "image/png": "[encoded data removed]",
      "text/plain": [
       "<Figure size 1000x400 with 5 Axes>"
      ]
     },
     "metadata": {},
     "output_type": "display_data"
    }
   ],
   "source": [
    "import numpy as np\n",
    "import matplotlib.pyplot as plt\n",
    "from sklearn.datasets import load_digits\n",
    "from sklearn.model_selection import train_test_split\n",
    "from sklearn.preprocessing import StandardScaler\n",
    "from sklearn.svm import SVC\n",
    "from sklearn.metrics import classification_report, accuracy_score, confusion_matrix\n",
    "# Load the MNIST dataset\n",
    "digits = load_digits()\n",
    "# Flatten the images (8x8) into 64-dimensional feature vectors\n",
    "X = digits.images.reshape((len(digits.images), -1))\n",
    "y = digits.target\n",
    "# Split the data into training and testing sets\n",
    "X_train, X_test, y_train, y_test = train_test_split(X, y, test_size=0.3, random_state=42)\n",
    "# Standardize features by removing the mean and scaling to unit variance\n",
    "scaler = StandardScaler()\n",
    "X_train = scaler.fit_transform(X_train)\n",
    "X_test = scaler.transform(X_test)\n",
    "# Initialize the SVM model with an RBF kernel\n",
    "model = SVC(kernel='rbf', gamma=0.001, C=100.0)\n",
    "\n",
    "# 'rbf' stands for Radial Basis Function (also called Gaussian kernel).\n",
    "# RBF allows the model to handle non-linear data (i.e., when classes are not separated by a straight line).\n",
    "# 0.001 is small, so decision boundaries will be smoother and not too sharp.\n",
    "# Penalty parameter for misclassification.\n",
    "# Train the model\n",
    "model.fit(X_train, y_train)\n",
    "# Make predictions on the test data\n",
    "y_pred = model.predict(X_test)\n",
    "# Evaluate the model\n",
    "print(f\"Accuracy: {accuracy_score(y_test, y_pred)}\")\n",
    "print(\"Classification Report:\\n\", classification_report(y_test, y_pred))\n",
    "print(\"Confusion Matrix:\\n\", confusion_matrix(y_test, y_pred))\n",
    "# Plot some examples with their predicted labels\n",
    "plt.figure(figsize=(10, 4))\n",
    "for index, (image, prediction) in enumerate(zip(X_test[:5], y_pred[:5])):\n",
    "    plt.subplot(1, 5, index + 1)\n",
    "    plt.imshow(image.reshape(8, 8), cmap=plt.cm.gray)\n",
    "    plt.title(f'Predicted: {prediction}')\n",
    "    plt.axis('off')\n",
    "plt.show()\n"
   ]
  },
  {
   "cell_type": "code",
   "execution_count": null,
   "id": "d3ca4275",
   "metadata": {},
   "outputs": [],
   "source": []
  }
 ],
 "metadata": {
  "kernelspec": {
   "display_name": "Python 3",
   "language": "python",
   "name": "python3"
  },
  "language_info": {
   "codemirror_mode": {
    "name": "ipython",
    "version": 3
   },
   "file_extension": ".py",
   "mimetype": "text/x-python",
   "name": "python",
   "nbconvert_exporter": "python",
   "pygments_lexer": "ipython3",
   "version": "3.13.2"
  }
 },
 "nbformat": 4,
 "nbformat_minor": 5
}
