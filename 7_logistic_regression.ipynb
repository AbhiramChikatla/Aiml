{
 "cells": [
  {
   "cell_type": "code",
   "execution_count": 1,
   "id": "12021a35",
   "metadata": {},
   "outputs": [],
   "source": [
    "# Demonstration of Logistic Regression for a sample training data set stored as a .CSV file. Calculate the accuracy,\n",
    "# precision, and recall for your dataset."
   ]
  },
  {
   "cell_type": "code",
   "execution_count": 2,
   "id": "8f1980d9",
   "metadata": {},
   "outputs": [],
   "source": [
    "# Logistic Regression is a statistical method for binary classification that predicts the probability of a binary outcome\n",
    "# (1/0, Yes/No, True/False) based on one or more independent variables. Unlike linear regression, which predicts a\n",
    "# continuous outcome, logistic regression transforms its output using the logistic sigmoid function to return a\n",
    "# probability value between 0 and 1.\n",
    "# In this demonstration, we'll train a logistic regression model on a sample dataset stored in a .CSV file. The dataset\n",
    "# includes features (independent variables) and a target label (dependent variable) which is binary. After training the\n",
    "# model, we will evaluate its performance using accuracy, precision, and recall."
   ]
  },
  {
   "cell_type": "code",
   "execution_count": 14,
   "id": "689af87e",
   "metadata": {},
   "outputs": [
    {
     "name": "stdout",
     "output_type": "stream",
     "text": [
      "[[47  7]\n",
      " [ 5 41]]\n",
      "Accuracy: 0.88\n",
      "Precision: 0.85\n",
      "Recall: 0.89\n"
     ]
    }
   ],
   "source": [
    "import pandas as pd\n",
    "from sklearn.model_selection import train_test_split\n",
    "from sklearn.preprocessing import StandardScaler\n",
    "from sklearn.linear_model import LogisticRegression\n",
    "from sklearn.metrics import accuracy_score, precision_score, recall_score\n",
    "from sklearn.datasets import make_classification\n",
    "from sklearn.metrics import confusion_matrix\n",
    "\n",
    "# Step 1: Load the data\n",
    "# data = pd.read_csv('sample_data.csv')\n",
    "# Step 2: Data Preprocessing\n",
    "# Separate features (X) and target label (y)\n",
    "# X = data.drop('target', axis=1)\n",
    "# y = data['target']\n",
    "# Handle missing values (if any) - optional step\n",
    "X, y = make_classification(n_samples=500, n_features=10, n_classes=2, random_state=42)\n",
    "# X.fillna(X.mean(), inplace=True)\n",
    "# Standardize the features\n",
    "scaler = StandardScaler()\n",
    "X = scaler.fit_transform(X)\n",
    "# Split the dataset into training and testing sets\n",
    "X_train, X_test, y_train, y_test = train_test_split(X, y, test_size=0.2, random_state=42)\n",
    "# Step 3: Model Training\n",
    "model = LogisticRegression()\n",
    "model.fit(X_train, y_train)\n",
    "# Step 4: Prediction\n",
    "y_pred = model.predict(X_test)\n",
    "# Step 5: Evaluation\n",
    "accuracy = accuracy_score(y_test, y_pred)\n",
    "precision = precision_score(y_test, y_pred)\n",
    "recall = recall_score(y_test, y_pred)\n",
    "conf=confusion_matrix(y_test,y_pred)\n",
    "print(conf)\n",
    "# Print the results\n",
    "print(f'Accuracy: {accuracy:.2f}')\n",
    "print(f'Precision: {precision:.2f}')\n",
    "print(f'Recall: {recall:.2f}')"
   ]
  },
  {
   "cell_type": "code",
   "execution_count": null,
   "id": "338d7d3a",
   "metadata": {},
   "outputs": [],
   "source": [
    "# OUTPUT:\n",
    "# The output will include the following evaluation metrics printed on the console:\n",
    "# Accuracy: 0.85\n",
    "# Precision: 0.80\n",
    "# Recall: 0.75\n",
    "# These metrics indicate how well the logistic regression model performed on the test data. A higher value in each\n",
    "# metric suggests better model performance"
   ]
  },
  {
   "cell_type": "code",
   "execution_count": null,
   "id": "76b23af4",
   "metadata": {},
   "outputs": [],
   "source": []
  }
 ],
 "metadata": {
  "kernelspec": {
   "display_name": "Python 3",
   "language": "python",
   "name": "python3"
  },
  "language_info": {
   "codemirror_mode": {
    "name": "ipython",
    "version": 3
   },
   "file_extension": ".py",
   "mimetype": "text/x-python",
   "name": "python",
   "nbconvert_exporter": "python",
   "pygments_lexer": "ipython3",
   "version": "3.13.2"
  }
 },
 "nbformat": 4,
 "nbformat_minor": 5
}
