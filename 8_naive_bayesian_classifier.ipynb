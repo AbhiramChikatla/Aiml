{
 "cells": [
  {
   "cell_type": "code",
   "execution_count": 1,
   "id": "e29fe079",
   "metadata": {},
   "outputs": [],
   "source": [
    "# Demonstration of Naïve Bayesian classifier for a sample training data set stored as a .CSV file. Calculate the\n",
    "# accuracy, precision, and recall for your dataset"
   ]
  },
  {
   "cell_type": "code",
   "execution_count": 2,
   "id": "f3b4763d",
   "metadata": {},
   "outputs": [],
   "source": [
    "# The Naïve Bayesian classifier is a probabilistic machine learning model used for classification tasks. It is based on\n",
    "# Bayes' Theorem and assumes that the features (or predictors) are independent, given the class label. Despite its\n",
    "# simplicity, it often performs well in various classification tasks, especially with small to medium-sized datasets.\n",
    "# In this demonstration, we'll implement a Naïve Bayesian classifier using a sample dataset stored in a .CSV file.\n",
    "# We'll train the model using the dataset, make predictions, and then evaluate the model's performance using\n",
    "# accuracy, precision, and recall metrics."
   ]
  },
  {
   "cell_type": "code",
   "execution_count": null,
   "id": "1678ac4d",
   "metadata": {},
   "outputs": [
    {
     "name": "stdout",
     "output_type": "stream",
     "text": [
      "Accuracy: 0.88\n",
      "Precision: 0.88\n",
      "Recall: 0.88\n",
      "[[48  6]\n",
      " [ 6 40]]\n",
      "              precision    recall  f1-score   support\n",
      "\n",
      "           0       0.89      0.89      0.89        54\n",
      "           1       0.87      0.87      0.87        46\n",
      "\n",
      "    accuracy                           0.88       100\n",
      "   macro avg       0.88      0.88      0.88       100\n",
      "weighted avg       0.88      0.88      0.88       100\n",
      "\n"
     ]
    }
   ],
   "source": [
    "import pandas as pd\n",
    "from sklearn.model_selection import train_test_split\n",
    "from sklearn.naive_bayes import GaussianNB\n",
    "from sklearn.datasets import make_classification\n",
    "from sklearn.metrics import classification_report\n",
    "from sklearn.metrics import accuracy_score, precision_score, recall_score\n",
    "from sklearn.metrics import confusion_matrix\n",
    "# Step 1: Load the Dataset\n",
    "# df = pd.read_csv('sample_data.csv')\n",
    "# # Step 2: Preprocess the Data\n",
    "# # Assuming the last column is the target variable and the rest are features\n",
    "# X = df.iloc[:, :-1]\n",
    "# y = df.iloc[:, -1]\n",
    "X,y=make_classification(n_samples=500,n_features=10,n_classes=2,random_state=42)\n",
    "# Step 3: Split the Data\n",
    "X_train, X_test, y_train, y_test = train_test_split(X, y, test_size=0.2, random_state=42)\n",
    "# Step 4: Train the Naïve Bayesian Classifier\n",
    "model = GaussianNB()\n",
    "model.fit(X_train, y_train)\n",
    "# Step 5: Make Predictions\n",
    "y_pred = model.predict(X_test)\n",
    "# Step 6: Evaluate the Model\n",
    "accuracy = accuracy_score(y_test, y_pred)\n",
    "precision = precision_score(y_test, y_pred, average='weighted')\n",
    "recall = recall_score(y_test, y_pred, average='weighted')\n",
    "# Output the results\n",
    "print(f\"Accuracy: {accuracy:.2f}\")\n",
    "print(f\"Precision: {precision:.2f}\")\n",
    "print(f\"Recall: {recall:.2f}\")\n",
    "print(confusion_matrix(y_test,y_pred))\n",
    "print(classification_report(y_test,y_pred))"
   ]
  },
  {
   "cell_type": "code",
   "execution_count": null,
   "id": "89aec5e3",
   "metadata": {},
   "outputs": [],
   "source": [
    "# Accuracy measures the proportion of correct predictions made by the model.\n",
    "#  Precision measures the proportion of true positive predictions in the positive class predicted by the model.\n",
    "#  Recall (or Sensitivity) measures the proportion of true positive cases that were correctly identified by the\n",
    "# model\n",
    "# The accuracy, precision, and recall scores for the classifier on the test dataset.\n",
    "# Example\n",
    "# Given a sample CSV file sample_data.csv, the code will load the data, train the Naïve Bayesian classifier, and\n",
    "# output metrics like:\n",
    "# Accuracy: 0.85\n",
    "# Precision: 0.84\n",
    "# Recall: 0.83\n",
    "# These results indicate how well the classifier performs on the given dataset."
   ]
  }
 ],
 "metadata": {
  "kernelspec": {
   "display_name": "Python 3",
   "language": "python",
   "name": "python3"
  },
  "language_info": {
   "codemirror_mode": {
    "name": "ipython",
    "version": 3
   },
   "file_extension": ".py",
   "mimetype": "text/x-python",
   "name": "python",
   "nbconvert_exporter": "python",
   "pygments_lexer": "ipython3",
   "version": "3.13.2"
  }
 },
 "nbformat": 4,
 "nbformat_minor": 5
}
